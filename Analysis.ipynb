{
 "cells": [
  {
   "cell_type": "code",
   "execution_count": 1,
   "metadata": {},
   "outputs": [],
   "source": [
    "# Imports\n",
    "\n",
    "import numpy as np\n",
    "import pandas as pd\n",
    "\n",
    "import matplotlib.pyplot as plt\n",
    "import seaborn as sns\n",
    "\n",
    "from sklearn.metrics import r2_score, mean_squared_error, mean_absolute_percentage_error # For comparisson between lines plotted, usage up for discussion."
   ]
  },
  {
   "cell_type": "markdown",
   "metadata": {},
   "source": [
    "### Import and Optimiza Data\n",
    "\n",
    "UN WPP has 2 different sets of data listed on their CSV downloads, which can be found if the `./data/` path.For this project the `./data/data_Medium.csv` is used to derive analytics and visualizations. Below, you can find the code related to import and optimization of dtypes for said data file.  "
   ]
  },
  {
   "cell_type": "code",
   "execution_count": 26,
   "metadata": {},
   "outputs": [],
   "source": [
    "# Read data from .parquet file\n",
    "df = pd.read_parquet('./data/data_Medium.parquet')\n",
    "\n",
    "# Inspect dtypes\n",
    "# df.info(memory_usage='deep')\n",
    "\n",
    "# Check if reserved bits can be reduced for any columns of type int64\n",
    "\n",
    "int_cols = df.select_dtypes(include='int64')\n",
    "for col in int_cols.columns:\n",
    "    \n",
    "    if (df[col].max() < 32767):\n",
    "        df[col] = df[col].astype('int16')\n",
    "\n",
    "# Set 'Time' as type datetime64[ns]\n",
    "df['Time'] = pd.to_datetime(df['Time'], format='%Y') # format = '%Y' is the only matching format for the dataset.\n",
    "\n",
    "# df.info(memory_usage='deep') for comparrison"
   ]
  }
 ],
 "metadata": {
  "kernelspec": {
   "display_name": "Python 3",
   "language": "python",
   "name": "python3"
  },
  "language_info": {
   "codemirror_mode": {
    "name": "ipython",
    "version": 3
   },
   "file_extension": ".py",
   "mimetype": "text/x-python",
   "name": "python",
   "nbconvert_exporter": "python",
   "pygments_lexer": "ipython3",
   "version": "3.11.1"
  }
 },
 "nbformat": 4,
 "nbformat_minor": 2
}
